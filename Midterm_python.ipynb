{
  "nbformat": 4,
  "nbformat_minor": 0,
  "metadata": {
    "colab": {
      "name": "Midterm11.ipynb",
      "provenance": [],
      "authorship_tag": "ABX9TyNemJTrsf1RKb7hFZeNZhyP",
      "include_colab_link": true
    },
    "kernelspec": {
      "name": "python3",
      "display_name": "Python 3"
    },
    "language_info": {
      "name": "python"
    }
  },
  "cells": [
    {
      "cell_type": "markdown",
      "metadata": {
        "id": "view-in-github",
        "colab_type": "text"
      },
      "source": [
        "<a href=\"https://colab.research.google.com/github/dtphuong2612/Projects/blob/main/Midterm_python.ipynb\" target=\"_parent\"><img src=\"https://colab.research.google.com/assets/colab-badge.svg\" alt=\"Open In Colab\"/></a>"
      ]
    },
    {
      "cell_type": "markdown",
      "metadata": {
        "id": "4or0aznb1zqd"
      },
      "source": [
        "# Name: Duong Thu Phuong\n"
      ]
    },
    {
      "cell_type": "code",
      "metadata": {
        "colab": {
          "base_uri": "https://localhost:8080/"
        },
        "id": "bYzFaa6twPgD",
        "outputId": "db743dcd-58c2-4cae-bcdd-5c841b5f701b"
      },
      "source": [
        "#Ex1:\n",
        "q = int(input(\"Nhập số áo bạn muốn mua: \"))\n",
        "if q < 1:\n",
        "  print(\"Số áo không hợp lệ!\")\n",
        "elif q <= 9:\n",
        "  gia = q*20\n",
        "elif q <= 19:\n",
        "  gia = q*(20 - 20*0.1)\n",
        "elif q <= 39:\n",
        "  gia = q*(20 - 20*0.25)\n",
        "else:\n",
        "  gia = q*(20 - 20*0.4)\n",
        "print(\"Số tiền bạn cần thanh toán là: \" , gia)"
      ],
      "execution_count": null,
      "outputs": [
        {
          "output_type": "stream",
          "text": [
            "Nhập số áo bạn muốn mua: 100\n",
            "Số tiền bạn cần thanh toán là:  1200.0\n"
          ],
          "name": "stdout"
        }
      ]
    },
    {
      "cell_type": "code",
      "metadata": {
        "colab": {
          "base_uri": "https://localhost:8080/"
        },
        "id": "qcjwPsc03plX",
        "outputId": "42abc5dd-3322-46b8-9dd5-b38e49c320a9"
      },
      "source": [
        "#Ex2:\n",
        "name = input(\"Nhập tên của học sinh: \")\n",
        "thong_tin = {}\n",
        "while name != \"END\":\n",
        "  diem = float(input(\"Nhập điểm của học sinh: \"))\n",
        "  while diem < 0 or diem > 10:\n",
        "      diem = input(\"Điểm không hợp lệ! Nhập lại điểm: \")\n",
        "  if name in thong_tin:\n",
        "    ques = input(\"Bạn có muốn cập nhật điểm của học sinh không? YES or NO \")\n",
        "    if ques == 'YES':\n",
        "      thong_tin[name] = diem\n",
        "      name = input(\"Nhập tên của học sinh: \")\n",
        "    else:\n",
        "     break\n",
        "  else:\n",
        "    thong_tin[name] = diem\n",
        "    name = input(\"Nhập tên của học sinh: \")\n",
        "print(thong_tin)"
      ],
      "execution_count": null,
      "outputs": [
        {
          "output_type": "stream",
          "text": [
            "Nhập tên của học sinh: A\n",
            "Nhập điểm của học sinh: 7\n",
            "Nhập tên của học sinh: B\n",
            "Nhập điểm của học sinh: 8\n",
            "Nhập tên của học sinh: C\n",
            "Nhập điểm của học sinh: 9\n",
            "Nhập tên của học sinh: D\n",
            "Nhập điểm của học sinh: 9\n",
            "Nhập tên của học sinh: END\n",
            "{'A': 7.0, 'B': 8.0, 'C': 9.0, 'D': 9.0}\n"
          ],
          "name": "stdout"
        }
      ]
    },
    {
      "cell_type": "code",
      "metadata": {
        "colab": {
          "base_uri": "https://localhost:8080/"
        },
        "id": "umVXSa1S7Utj",
        "outputId": "99960ad7-f222-4ea9-975a-b6a2687e641e"
      },
      "source": [
        "#b: Đếm số lượng học sinh Giỏi, Trung bình, Khá\n",
        "G = 0\n",
        "K = 0\n",
        "TB = 0\n",
        "Y = 0\n",
        "for i in thong_tin.values():\n",
        "  if i < 5:\n",
        "    Y += 1\n",
        "  elif i < 6.5:\n",
        "    TB += 1\n",
        "  elif i < 8:\n",
        "    K += 1\n",
        "  else:\n",
        "    G += 1\n",
        "print(\"Số học sinh Giỏi , Khá, Trung Bình và Yếu lần lượt là: {} , {} , {} và {}\".format(G,K,TB,Y))"
      ],
      "execution_count": null,
      "outputs": [
        {
          "output_type": "stream",
          "text": [
            "Số học sinh Giỏi , Khá, Trung Bình và Yếu lần lượt là: 3 , 1 , 0 và 0\n"
          ],
          "name": "stdout"
        }
      ]
    },
    {
      "cell_type": "code",
      "metadata": {
        "colab": {
          "base_uri": "https://localhost:8080/"
        },
        "id": "gv6nE3pe-7N8",
        "outputId": "d97aa029-88c7-4a85-d85a-b6ed2ee9879a"
      },
      "source": [
        "#c In ra ba bạn điểm cao nhất lớp \n",
        "mark = sorted(list(thong_tin.values()))\n",
        "sort_mark = mark[-3:]\n",
        "Top3 = []\n",
        "for i in sort_mark:\n",
        "  for k, v in thong_tin.items():\n",
        "    if i == v:\n",
        "      Top3.append(k)\n",
        "print(sorted(set(Top3)))\n",
        "\n"
      ],
      "execution_count": null,
      "outputs": [
        {
          "output_type": "stream",
          "text": [
            "['B', 'C', 'D']\n"
          ],
          "name": "stdout"
        }
      ]
    },
    {
      "cell_type": "code",
      "metadata": {
        "colab": {
          "base_uri": "https://localhost:8080/",
          "height": 35
        },
        "id": "fDmCsPYz_xJe",
        "outputId": "12fee0a9-6846-463b-c798-4a4ea91a084c"
      },
      "source": [
        "#Ex4:\n",
        "#a: In ra số đảo ngược của số đó:\n",
        "def rev(n):\n",
        "  string = []\n",
        "  for i in str(n):\n",
        "    string.append(i)\n",
        "  string2 = string[::-1]\n",
        "  return  \"\".join(string2)\n",
        "rev(123)"
      ],
      "execution_count": null,
      "outputs": [
        {
          "output_type": "execute_result",
          "data": {
            "application/vnd.google.colaboratory.intrinsic+json": {
              "type": "string"
            },
            "text/plain": [
              "'321'"
            ]
          },
          "metadata": {
            "tags": []
          },
          "execution_count": 52
        }
      ]
    },
    {
      "cell_type": "code",
      "metadata": {
        "colab": {
          "base_uri": "https://localhost:8080/"
        },
        "id": "X5ROLcIODZ7t",
        "outputId": "a3d8fc41-0ecb-4a94-f33f-9e39a5734b20"
      },
      "source": [
        "#b \n",
        "def kiem_tra(x):\n",
        "  if n <= 1:\n",
        "    return False\n",
        "  elif x == 2 or x == 3:\n",
        "    return True\n",
        "  else:\n",
        "    check = 0 \n",
        "    for i in range(1,int(int(x)/2)+1):\n",
        "      if int(x) % i == 0:\n",
        "        check += 1\n",
        "        if check >= 2:\n",
        "          return False   \n",
        "    return True\n",
        "n = int(input(\"Nhập số bạn muốn kiểm tra: \"))\n",
        "a = kiem_tra(n)\n",
        "b = kiem_tra(rev(n))\n",
        "if a == True and b == True:\n",
        "  print(\"Hợp lệ\")\n",
        "else:\n",
        "  print(\"Không hợp lệ\")\n"
      ],
      "execution_count": null,
      "outputs": [
        {
          "output_type": "stream",
          "text": [
            "Nhập số bạn muốn kiểm tra: 19\n",
            "Không hợp lệ\n"
          ],
          "name": "stdout"
        }
      ]
    },
    {
      "cell_type": "code",
      "metadata": {
        "colab": {
          "base_uri": "https://localhost:8080/"
        },
        "id": "B-yQ46JNIapW",
        "outputId": "2d3ab402-a045-4c3a-8362-aa448a087dfd"
      },
      "source": [
        "#c \n",
        "x = [i for i in range(1,1000) if kiem_tra(i) == True and kiem_tra(rev(i)) == True]\n",
        "print(x)"
      ],
      "execution_count": null,
      "outputs": [
        {
          "output_type": "stream",
          "text": [
            "[1, 2, 3, 5, 7, 11, 13, 17, 31, 37, 71, 73, 79, 97, 101, 107, 113, 131, 149, 151, 157, 167, 179, 181, 191, 199, 311, 313, 337, 347, 353, 359, 373, 383, 389, 701, 709, 727, 733, 739, 743, 751, 757, 761, 769, 787, 797, 907, 919, 929, 937, 941, 953, 967, 971, 983, 991]\n"
          ],
          "name": "stdout"
        }
      ]
    },
    {
      "cell_type": "code",
      "metadata": {
        "id": "6DmZwbdsKnQ8"
      },
      "source": [
        "#Ex4:\n",
        "def du_doan(matrix1, matrix2):   # ma trận 1  = ma trận 2 (ma trận 5x5)\n",
        "  cot = len(matrix1[0])\n",
        "  hang = len(matrix1)\n",
        "  for i in range(hang - 2):        \n",
        "    for j in range(cot - 2):\n",
        "      song = 0\n",
        "      for x in range(i, i + 3):     \n",
        "        for y in range(j, j + 3):\n",
        "          if matrix1[x][y] == 1:\n",
        "            song += 1 \n",
        "\n",
        "      hangxom_song = 0    \n",
        "      if matrix1[i+1][j+1] == 1:\n",
        "        hangxom_song = song - 1\n",
        "        if hangxom_song < 2 or hangxom_song > 3:\n",
        "          matrix2[i+1][j+1] = 0\n",
        "      else:\n",
        "        hangxom_song = song \n",
        "        if hangxom_song == 3:\n",
        "          matrix2[i+1][j+1] = 1\n",
        "  return matrix2"
      ],
      "execution_count": null,
      "outputs": []
    },
    {
      "cell_type": "code",
      "metadata": {
        "colab": {
          "base_uri": "https://localhost:8080/"
        },
        "id": "o_NfbozSQP4E",
        "outputId": "e9a9a9b4-e209-4e68-f6f4-25bee9d1a0d2"
      },
      "source": [
        "du_doan([[0, 0, 0, 0, 0], [0, 1, 1, 0, 0],[0, 1, 1, 0, 0],[0, 0, 1, 0, 0],[0, 0, 0, 0, 0]],[[0, 0, 0, 0, 0], [0, 1, 1, 0, 0],[0, 1, 1, 0, 0],[0, 0, 1, 0, 0],[0, 0, 0, 0, 0]])\n"
      ],
      "execution_count": null,
      "outputs": [
        {
          "output_type": "execute_result",
          "data": {
            "text/plain": [
              "[[0, 0, 0, 0, 0],\n",
              " [0, 1, 1, 0, 0],\n",
              " [0, 0, 0, 1, 0],\n",
              " [0, 1, 1, 0, 0],\n",
              " [0, 0, 0, 0, 0]]"
            ]
          },
          "metadata": {
            "tags": []
          },
          "execution_count": 99
        }
      ]
    },
    {
      "cell_type": "code",
      "metadata": {
        "id": "OOpGrL-aQYrC"
      },
      "source": [
        ""
      ],
      "execution_count": null,
      "outputs": []
    },
    {
      "cell_type": "code",
      "metadata": {
        "id": "QcpKKnTxbMlY"
      },
      "source": [
        ""
      ],
      "execution_count": null,
      "outputs": []
    }
  ]
}